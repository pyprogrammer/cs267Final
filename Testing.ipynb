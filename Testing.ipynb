{
 "cells": [
  {
   "cell_type": "code",
   "execution_count": 1,
   "metadata": {
    "collapsed": false
   },
   "outputs": [
    {
     "name": "stdout",
     "output_type": "stream",
     "text": [
      "Populating the interactive namespace from numpy and matplotlib\n",
      "ctree looking for relative cache directories named compiled, checking directories under this one\n",
      "\n"
     ]
    },
    {
     "name": "stderr",
     "output_type": "stream",
     "text": [
      "WARNING: pylab import has clobbered these variables: ['copy']\n",
      "`%matplotlib` prevents importing * from pylab and numpy\n"
     ]
    }
   ],
   "source": [
    "import analyzer\n",
    "from snowflake.nodes import *\n",
    "from snowflake.vector import Vector\n",
    "from ctree.frontend import dump\n",
    "from snowflake.stencil_compiler import CCompiler\n",
    "import time\n",
    "%pylab inline\n",
    "!ctree -cc"
   ]
  },
  {
   "cell_type": "code",
   "execution_count": 2,
   "metadata": {
    "collapsed": true
   },
   "outputs": [],
   "source": [
    "SIZE = 160\n",
    "NDIM = 4\n",
    "DECOMP = 2\n",
    "ITER = 100"
   ]
  },
  {
   "cell_type": "code",
   "execution_count": 3,
   "metadata": {
    "collapsed": true
   },
   "outputs": [],
   "source": [
    "def create_component(ndim, dim):\n",
    "    # each component is one dimension -> A[i] = B[i](A[i] - A[i-1]) + B[i+1](A[i+1] - A[i])\n",
    "    lower_diff = StencilComponent(\"mesh\", \n",
    "                                  SparseWeightArray({Vector.zero_vector(ndim): 1, -Vector.unit_vector(dim, ndim): -1}))\n",
    "    lower_diff *= StencilComponent(\"beta_{}\".format(dim), \n",
    "                                 SparseWeightArray({Vector.zero_vector(ndim): 1}))\n",
    "    upper_diff = StencilComponent(\"mesh\", \n",
    "                                  SparseWeightArray({Vector.zero_vector(ndim): -1, Vector.unit_vector(dim, ndim): 1}))\n",
    "    upper_diff *= StencilComponent(\"beta_{}\".format(dim), \n",
    "                                 SparseWeightArray({Vector.unit_vector(dim, ndim): 1}))\n",
    "\n",
    "    return lower_diff + upper_diff\n",
    "\n",
    "\n",
    "def create_stencil(ndim):\n",
    "    components = [create_component(ndim, dim) for dim in range(ndim)] ## creates components for beta_1 to beta_n\n",
    "    total = sum(components)\n",
    "    return Stencil(total, \"out\", [(1, -1, 1)]*ndim, \"mesh\")"
   ]
  },
  {
   "cell_type": "code",
   "execution_count": 4,
   "metadata": {
    "collapsed": false
   },
   "outputs": [],
   "source": [
    "sten = create_stencil(NDIM)"
   ]
  },
  {
   "cell_type": "code",
   "execution_count": 5,
   "metadata": {
    "collapsed": false
   },
   "outputs": [],
   "source": [
    "decomp = analyzer.decompose(sten, DECOMP)"
   ]
  },
  {
   "cell_type": "code",
   "execution_count": 6,
   "metadata": {
    "collapsed": false
   },
   "outputs": [],
   "source": [
    "# for d in decomp:\n",
    "#     print(dump(d))\n",
    "#     print(\"\\n\"*3)"
   ]
  },
  {
   "cell_type": "code",
   "execution_count": 7,
   "metadata": {
    "collapsed": false
   },
   "outputs": [],
   "source": [
    "optimized = analyzer.repackage(sten, NDIM, DECOMP)\n",
    "# print(dump(optimized))"
   ]
  },
  {
   "cell_type": "code",
   "execution_count": 8,
   "metadata": {
    "collapsed": true
   },
   "outputs": [],
   "source": [
    "naive_compiler = CCompiler()\n",
    "# naive_compiler.tile_size = (107, 107, 107)\n",
    "optimized_compiler = CCompiler()\n",
    "# optimized_compiler.tile_size = (86, 86, 86)"
   ]
  },
  {
   "cell_type": "code",
   "execution_count": 9,
   "metadata": {
    "collapsed": false
   },
   "outputs": [],
   "source": [
    "naive_kernel = naive_compiler.compile(StencilGroup([sten]*ITER))\n",
    "optimized_kernel = optimized_compiler.compile(StencilGroup(optimized.body*ITER))"
   ]
  },
  {
   "cell_type": "code",
   "execution_count": 10,
   "metadata": {
    "collapsed": false
   },
   "outputs": [],
   "source": [
    "test_in = np.arange((SIZE + 2)**NDIM, dtype=np.float).reshape((SIZE+2,)*NDIM)"
   ]
  },
  {
   "cell_type": "code",
   "execution_count": 11,
   "metadata": {
    "collapsed": true
   },
   "outputs": [],
   "source": [
    "test_out = np.zeros_like(test_in)\n",
    "test_opt_out = np.zeros_like(test_in)"
   ]
  },
  {
   "cell_type": "code",
   "execution_count": 12,
   "metadata": {
    "collapsed": false
   },
   "outputs": [],
   "source": [
    "naive_args = [test_in] + [test_in]*NDIM + [test_out]\n",
    "naive_kernel(*naive_args)\n",
    "opt_args = [test_in] + [test_in]*NDIM + [test_opt_out]\n",
    "optimized_kernel(*opt_args)"
   ]
  },
  {
   "cell_type": "code",
   "execution_count": 13,
   "metadata": {
    "collapsed": false
   },
   "outputs": [
    {
     "data": {
      "text/plain": [
       "('mesh', 'beta_0', 'beta_1', 'beta_2', 'beta_3', 'out')"
      ]
     },
     "execution_count": 13,
     "metadata": {},
     "output_type": "execute_result"
    }
   ],
   "source": [
    "naive_kernel.arg_spec"
   ]
  },
  {
   "cell_type": "code",
   "execution_count": 14,
   "metadata": {
    "collapsed": false
   },
   "outputs": [
    {
     "data": {
      "text/plain": [
       "('mesh', 'beta_0', 'beta_1', 'beta_2', 'beta_3', 'out')"
      ]
     },
     "execution_count": 14,
     "metadata": {},
     "output_type": "execute_result"
    }
   ],
   "source": [
    "optimized_kernel.arg_spec"
   ]
  },
  {
   "cell_type": "code",
   "execution_count": 15,
   "metadata": {
    "collapsed": false
   },
   "outputs": [],
   "source": [
    "\n",
    "t_naive = -time.time()\n",
    "for i in range(10):\n",
    "    naive_kernel(*naive_args)\n",
    "t_naive += time.time()\n",
    "t_opt = -time.time()\n",
    "for i in range(10):\n",
    "    optimized_kernel(*opt_args)\n",
    "t_opt += time.time()"
   ]
  },
  {
   "cell_type": "code",
   "execution_count": 16,
   "metadata": {
    "collapsed": false
   },
   "outputs": [
    {
     "name": "stdout",
     "output_type": "stream",
     "text": [
      "264.200270891\n",
      "262.018288851\n"
     ]
    }
   ],
   "source": [
    "print(t_naive)\n",
    "print(t_opt)"
   ]
  },
  {
   "cell_type": "code",
   "execution_count": null,
   "metadata": {
    "collapsed": true
   },
   "outputs": [],
   "source": []
  }
 ],
 "metadata": {
  "kernelspec": {
   "display_name": "Python 2",
   "language": "python",
   "name": "python2"
  },
  "language_info": {
   "codemirror_mode": {
    "name": "ipython",
    "version": 2
   },
   "file_extension": ".py",
   "mimetype": "text/x-python",
   "name": "python",
   "nbconvert_exporter": "python",
   "pygments_lexer": "ipython2",
   "version": "2.7.10"
  }
 },
 "nbformat": 4,
 "nbformat_minor": 0
}
